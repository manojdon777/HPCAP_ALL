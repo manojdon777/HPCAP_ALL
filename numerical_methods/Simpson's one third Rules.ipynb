{
 "cells": [
  {
   "cell_type": "code",
   "execution_count": 12,
   "id": "e0d1c86a",
   "metadata": {},
   "outputs": [
    {
     "name": "stdout",
     "output_type": "stream",
     "text": [
      "4.875\n",
      "7.541666666666666\n",
      "39.86692937271893\n"
     ]
    }
   ],
   "source": [
    "import numpy as np\n",
    "def IS1(f,a,b,n):\n",
    "    h = ((b - a)/n)/2\n",
    "    sum = 0\n",
    "    for i in range(int(n)):\n",
    "        t = (f(i + (2*i)*h) + 4*f(a + (2*i + 1)*h) + f(a + (2*i + 2)*h))\n",
    "#         t = (f(a + (2*i)*h) + 4*f(a + (2*i + 1)*h) + f(a + (2*i + 2)*h))\n",
    "        sum += t\n",
    "    return h/3*sum\n",
    "\n",
    "def f(x):\n",
    "    return 2 + 2*x + x**2 + np.sin(2*np.pi*x) + np.cos(2*np.pi*x/0.5)\n",
    "\n",
    "print(IS1(f, 0, 1.5, 1.0))\n",
    "print(IS1(f, 0, 1.5, 3.0))\n",
    "print(IS1(f, 0, 1.5, 18.0))\n"
   ]
  },
  {
   "cell_type": "code",
   "execution_count": 10,
   "id": "61d47ba7",
   "metadata": {},
   "outputs": [
    {
     "name": "stdout",
     "output_type": "stream",
     "text": [
      "4.875\n",
      "6.208333333333333\n",
      "6.693318261607817\n"
     ]
    }
   ],
   "source": [
    "import numpy as np\n",
    "\n",
    "def IS1(f, a, b, n):\n",
    "    h = ((b - a)/n)/2\n",
    "    sum=0\n",
    "    for i in range(int(n)) :\n",
    "        t = (f(a + (2*i)*h) + 4*f(a + (2*i + 1)*h) + f(a + (2*i + 2)*h))\n",
    "        sum=sum + t\n",
    "    return h/3*sum\n",
    "def f(x):\n",
    "    y=2 + 2*x + x**2 + np.sin(2*np.pi*x) + np.cos(2*np.pi*x/0.5)\n",
    "    return y\n",
    "print(IS1(f, 0, 1.5, 1.0))\n",
    "print(IS1(f, 0, 1.5, 3.0))\n",
    "print(IS1(f, 0, 1.5, 18.0))"
   ]
  }
 ],
 "metadata": {
  "kernelspec": {
   "display_name": "Python 3 (ipykernel)",
   "language": "python",
   "name": "python3"
  },
  "language_info": {
   "codemirror_mode": {
    "name": "ipython",
    "version": 3
   },
   "file_extension": ".py",
   "mimetype": "text/x-python",
   "name": "python",
   "nbconvert_exporter": "python",
   "pygments_lexer": "ipython3",
   "version": "3.10.6"
  }
 },
 "nbformat": 4,
 "nbformat_minor": 5
}
