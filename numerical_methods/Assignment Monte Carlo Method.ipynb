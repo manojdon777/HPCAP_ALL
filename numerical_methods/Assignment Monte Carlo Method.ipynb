{
 "cells": [
  {
   "cell_type": "code",
   "execution_count": 6,
   "id": "f5434a92",
   "metadata": {},
   "outputs": [
    {
     "name": "stdout",
     "output_type": "stream",
     "text": [
      "Final Estimation of Pi= 3.142304\n"
     ]
    }
   ],
   "source": [
    "import random\n",
    "\n",
    "INTERVAL = 1000\n",
    "\n",
    "circle_dots = 0\n",
    "square_dots = 0\n",
    "\n",
    "for i in range(INTERVAL**2):\n",
    "\n",
    "    x = random.uniform(-1, 1)\n",
    "    y = random.uniform(-1, 1)\n",
    "    origin_dist = x**2 + y**2\n",
    "\n",
    "    if origin_dist <= 1:\n",
    "        circle_dots += 1\n",
    "\n",
    "    square_dots += 1\n",
    "\n",
    "    pi = 4 * circle_dots / square_dots\n",
    "\n",
    "\n",
    "print(\"Final Estimation of Pi=\", pi)\n"
   ]
  },
  {
   "cell_type": "code",
   "execution_count": null,
   "id": "aa7e9b27",
   "metadata": {},
   "outputs": [],
   "source": []
  },
  {
   "cell_type": "code",
   "execution_count": null,
   "id": "5d601319",
   "metadata": {},
   "outputs": [],
   "source": []
  }
 ],
 "metadata": {
  "kernelspec": {
   "display_name": "Python 3 (ipykernel)",
   "language": "python",
   "name": "python3"
  },
  "language_info": {
   "codemirror_mode": {
    "name": "ipython",
    "version": 3
   },
   "file_extension": ".py",
   "mimetype": "text/x-python",
   "name": "python",
   "nbconvert_exporter": "python",
   "pygments_lexer": "ipython3",
   "version": "3.10.6"
  }
 },
 "nbformat": 4,
 "nbformat_minor": 5
}
