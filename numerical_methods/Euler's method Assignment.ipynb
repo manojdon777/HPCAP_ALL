{
 "cells": [
  {
   "cell_type": "code",
   "execution_count": 4,
   "id": "b6b63798",
   "metadata": {},
   "outputs": [
    {
     "name": "stdout",
     "output_type": "stream",
     "text": [
      "At x = 0.02, y = 1.02000016\n",
      "At x = 0.04, y = 1.0404014432\n",
      "At x = 0.06, y = 1.061213792064\n",
      "At x = 0.08, y = 1.0824483079052798\n",
      "At x = 0.1, y = 1.1041172740633853\n",
      "At x = 0.12000000000000001, y = 1.126234179544653\n"
     ]
    }
   ],
   "source": [
    "def f(x, y):\n",
    "    return x*x*x + y\n",
    "def euler(x, y, h):\n",
    "    return y + h * f(x,y)\n",
    "x0 = 0\n",
    "y0 = 1\n",
    "h = 0.02\n",
    "for i in range(6):\n",
    "    x0 = x0 + h\n",
    "    y0 = euler(x0,y0,h)\n",
    "    print(f'At x = {x0}, y = {y0}')"
   ]
  },
  {
   "cell_type": "code",
   "execution_count": 3,
   "id": "c376ee81",
   "metadata": {},
   "outputs": [
    {
     "name": "stdout",
     "output_type": "stream",
     "text": [
      "At x = 0.12000000000000001, y = 1.126234179544653\n"
     ]
    }
   ],
   "source": [
    "def f(x, y):\n",
    "    return x*x*x + y\n",
    "def euler(x, y, h):\n",
    "    return y + h * f(x,y)\n",
    "x0 = 0\n",
    "y0 = 1\n",
    "h = 0.02\n",
    "while True:\n",
    "    x0 = x0 + h\n",
    "    y0 = euler(x0,y0,h)\n",
    "    if abs(x0 - .12) < 0.0001:\n",
    "        print(f'At x = {x0}, y = {y0}')\n",
    "        break"
   ]
  },
  {
   "cell_type": "code",
   "execution_count": null,
   "id": "ad56f4ea",
   "metadata": {},
   "outputs": [],
   "source": []
  }
 ],
 "metadata": {
  "kernelspec": {
   "display_name": "Python 3 (ipykernel)",
   "language": "python",
   "name": "python3"
  },
  "language_info": {
   "codemirror_mode": {
    "name": "ipython",
    "version": 3
   },
   "file_extension": ".py",
   "mimetype": "text/x-python",
   "name": "python",
   "nbconvert_exporter": "python",
   "pygments_lexer": "ipython3",
   "version": "3.10.6"
  }
 },
 "nbformat": 4,
 "nbformat_minor": 5
}
