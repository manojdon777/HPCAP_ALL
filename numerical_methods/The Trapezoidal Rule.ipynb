{
 "cells": [
  {
   "cell_type": "code",
   "execution_count": 18,
   "id": "d7eb2149",
   "metadata": {},
   "outputs": [
    {
     "name": "stdout",
     "output_type": "stream",
     "text": [
      "8.4375\n",
      "6.691172130372999\n"
     ]
    }
   ],
   "source": [
    "import numpy as np\n",
    "def IT(f, a, b, n):\n",
    "    h = (b - a)/n\n",
    "    sum = 0\n",
    "    for i in range(int (n)):\n",
    "        t = (f(a + i*h) + f(a + (i + 1)*h))*h/2\n",
    "        sum += t\n",
    "    return sum\n",
    "def f(x):\n",
    "    y = 2 + 2*x + x**2 + np.sin(2*np.pi*x) + np.cos(2*np.pi*x/0.5)\n",
    "    return y\n",
    "print(IT(f,0,1.5,1.0))\n",
    "print(IT(f,0,1.5,29.0))\n"
   ]
  },
  {
   "cell_type": "code",
   "execution_count": 13,
   "id": "bd64d6e6",
   "metadata": {},
   "outputs": [
    {
     "name": "stdout",
     "output_type": "stream",
     "text": [
      "The numerical result is 6.693310 (+-7.43107e-14)\n"
     ]
    }
   ],
   "source": [
    "from scipy.integrate import quad\n",
    "def f(x):\n",
    "    return 2 + 2*x + x**2 + np.sin(2*np.pi*x) + np.cos(2*np.pi*x/0.5)\n",
    "\n",
    "res, err = quad(f, 0, 1.5)\n",
    "\n",
    "print(\"The numerical result is {:f} (+-{:g})\"\n",
    "    .format(res, err))"
   ]
  },
  {
   "cell_type": "code",
   "execution_count": null,
   "id": "5b1bb8a1",
   "metadata": {},
   "outputs": [],
   "source": []
  }
 ],
 "metadata": {
  "kernelspec": {
   "display_name": "Python 3 (ipykernel)",
   "language": "python",
   "name": "python3"
  },
  "language_info": {
   "codemirror_mode": {
    "name": "ipython",
    "version": 3
   },
   "file_extension": ".py",
   "mimetype": "text/x-python",
   "name": "python",
   "nbconvert_exporter": "python",
   "pygments_lexer": "ipython3",
   "version": "3.10.6"
  }
 },
 "nbformat": 4,
 "nbformat_minor": 5
}
